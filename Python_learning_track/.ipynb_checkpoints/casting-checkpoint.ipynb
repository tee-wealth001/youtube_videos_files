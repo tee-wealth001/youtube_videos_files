{
 "cells": [
  {
   "cell_type": "markdown",
   "id": "73700f5b-3bdd-470e-9824-36a25ebbb6c5",
   "metadata": {},
   "source": [
    "## Casting in python\n"
   ]
  },
  {
   "cell_type": "markdown",
   "id": "6ff543e6-3e1e-40de-adca-a79f4c983893",
   "metadata": {},
   "source": [
    "Casting in programming refers to the process of converting a value from one data type to another. This is necessary when you want to perform operations or assignments involving different data types. Casting allows you to explicitly specify the desired type for a value. There are two main types of casting: implicit casting (automatic) and explicit casting (manual).\n"
   ]
  },
  {
   "cell_type": "markdown",
   "id": "ad86bc32-d5f7-487a-b11c-ba71aaecb43f",
   "metadata": {},
   "source": [
    "### implicit casting"
   ]
  },
  {
   "cell_type": "code",
   "execution_count": 2,
   "id": "f58da335-345c-49b9-9863-858e6849f8b2",
   "metadata": {},
   "outputs": [
    {
     "name": "stdout",
     "output_type": "stream",
     "text": [
      "<class 'int'>\n",
      "<class 'float'>\n",
      "4.5\n",
      "<class 'float'>\n"
     ]
    }
   ],
   "source": [
    "#Casting in python\n",
    "#implicit\n",
    "\n",
    "x = 3\n",
    "y = 1.5\n",
    "\n",
    "print(type(x))\n",
    "print(type(y))\n",
    "\n",
    "sum = x + y\n",
    "print(sum)\n",
    "print(type(sum))\n"
   ]
  },
  {
   "cell_type": "markdown",
   "id": "7871eed7-7b14-4acb-bdaa-ec7f79f60c48",
   "metadata": {},
   "source": [
    "### explicit casting\n",
    "##### int()\n",
    "##### float()\n",
    "##### str()\n"
   ]
  },
  {
   "cell_type": "code",
   "execution_count": 5,
   "id": "8de34261-9334-42dd-af74-d67f927f0dde",
   "metadata": {},
   "outputs": [
    {
     "name": "stdout",
     "output_type": "stream",
     "text": [
      "<class 'float'>\n",
      "<class 'int'>\n"
     ]
    }
   ],
   "source": [
    "#int()\n",
    "\n",
    "x = 2.1\n",
    "\n",
    "print(type(x))\n",
    "\n",
    "conv_x = int(x)\n",
    "\n",
    "print(type(conv_x))"
   ]
  },
  {
   "cell_type": "code",
   "execution_count": 8,
   "id": "c0dc4d92-ad0c-4ab7-9b29-8bd13616a4b0",
   "metadata": {},
   "outputs": [
    {
     "name": "stdout",
     "output_type": "stream",
     "text": [
      "<class 'int'>\n",
      "<class 'float'>\n",
      "2.0\n"
     ]
    }
   ],
   "source": [
    "#float\n",
    "\n",
    "x = 2\n",
    "\n",
    "print(type(x))\n",
    "\n",
    "conv_x = float(x)\n",
    "\n",
    "print(type(conv_x))\n",
    "\n",
    "print(conv_x)\n",
    "\n",
    "# float values \n",
    "# 2E3\n",
    "# 89.3e2\n"
   ]
  },
  {
   "cell_type": "code",
   "execution_count": 9,
   "id": "3964745f-3c8f-4b8e-b326-71025a576fcf",
   "metadata": {},
   "outputs": [
    {
     "name": "stdout",
     "output_type": "stream",
     "text": [
      "<class 'int'>\n",
      "<class 'str'>\n",
      "2\n"
     ]
    }
   ],
   "source": [
    "#str()\n",
    "\n",
    "x = 2\n",
    "\n",
    "print(type(x))\n",
    "\n",
    "conv_x = str(x)\n",
    "\n",
    "print(type(conv_x))\n",
    "\n",
    "print(conv_x)"
   ]
  },
  {
   "cell_type": "code",
   "execution_count": 1,
   "id": "fdc1a2e6-7732-4d0f-b301-7ec423f4c30b",
   "metadata": {},
   "outputs": [
    {
     "name": "stdout",
     "output_type": "stream",
     "text": [
      "i am200\n"
     ]
    }
   ],
   "source": [
    "#word problem\n",
    "\n",
    "word = \"i am\"\n",
    "age = 200\n",
    "\n",
    "conv_age = str(age)\n",
    "\n",
    "concat = word + conv_age\n",
    "\n",
    "print(concat)\n"
   ]
  }
 ],
 "metadata": {
  "kernelspec": {
   "display_name": "Python 3 (ipykernel)",
   "language": "python",
   "name": "python3"
  },
  "language_info": {
   "codemirror_mode": {
    "name": "ipython",
    "version": 3
   },
   "file_extension": ".py",
   "mimetype": "text/x-python",
   "name": "python",
   "nbconvert_exporter": "python",
   "pygments_lexer": "ipython3",
   "version": "3.11.5"
  }
 },
 "nbformat": 4,
 "nbformat_minor": 5
}
