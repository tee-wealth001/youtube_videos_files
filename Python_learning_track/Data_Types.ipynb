{
 "cells": [
  {
   "cell_type": "markdown",
   "id": "2da51d8f-4fc3-4e49-ad96-616d8b81c958",
   "metadata": {},
   "source": [
    "## DATA TYPES"
   ]
  },
  {
   "cell_type": "markdown",
   "id": "c65c6241",
   "metadata": {},
   "source": [
    "In programming, data types define the type of data that a variable can hold. Each programming language has its own set of data types, and they serve to specify the kind of values a variable can store, as well as the operations that can be performed on those values."
   ]
  },
  {
   "cell_type": "code",
   "execution_count": 12,
   "id": "20d81869-cf88-46a9-a94c-4608e5273ca1",
   "metadata": {},
   "outputs": [],
   "source": [
    "#type()\n",
    "#returns the data type of the value"
   ]
  },
  {
   "cell_type": "code",
   "execution_count": 13,
   "id": "7ab154ac-4f23-4c1b-9c53-f3e1740347ea",
   "metadata": {},
   "outputs": [
    {
     "name": "stdout",
     "output_type": "stream",
     "text": [
      "<class 'int'>\n"
     ]
    }
   ],
   "source": [
    "#integer, int\n",
    "#1, 2, 3\n",
    "x = 2\n",
    "#type()\n",
    "print(type(x))"
   ]
  },
  {
   "cell_type": "code",
   "execution_count": 2,
   "id": "d64efeee-c1bb-45ab-a70c-6154aa8b17c8",
   "metadata": {},
   "outputs": [
    {
     "name": "stdout",
     "output_type": "stream",
     "text": [
      "<class 'float'>\n"
     ]
    }
   ],
   "source": [
    "\n",
    "#float\n",
    "z = 2.0\n",
    "print(type(z))"
   ]
  },
  {
   "cell_type": "code",
   "execution_count": 3,
   "id": "7dc0dba3-709a-4bb1-be6d-b25560cb67f0",
   "metadata": {},
   "outputs": [
    {
     "name": "stdout",
     "output_type": "stream",
     "text": [
      "<class 'str'>\n"
     ]
    }
   ],
   "source": [
    "#str, string\n",
    "#'', \"\"\n",
    "y = \"I am a boy\"\n",
    "print(type(y))"
   ]
  },
  {
   "cell_type": "code",
   "execution_count": 4,
   "id": "e95bf2fa-cd38-4aaf-a7b1-08ed85dedd0a",
   "metadata": {},
   "outputs": [
    {
     "name": "stdout",
     "output_type": "stream",
     "text": [
      "<class 'bool'>\n"
     ]
    }
   ],
   "source": [
    "#bool, boolean\n",
    "b = True\n",
    "print(type(b))"
   ]
  },
  {
   "cell_type": "code",
   "execution_count": 6,
   "id": "ff984911-7cf2-41e0-9f87-62e86803e25c",
   "metadata": {},
   "outputs": [
    {
     "name": "stdout",
     "output_type": "stream",
     "text": [
      "<class 'list'>\n"
     ]
    }
   ],
   "source": [
    "#List\n",
    "l = [1, 2, 3, 4, 5]\n",
    "l = [\"me\", \"you\"]\n",
    "print(type(l))"
   ]
  },
  {
   "cell_type": "code",
   "execution_count": 7,
   "id": "50e86e62-ec5a-4c8a-b429-9ab350fdd50d",
   "metadata": {},
   "outputs": [
    {
     "name": "stdout",
     "output_type": "stream",
     "text": [
      "<class 'tuple'>\n"
     ]
    }
   ],
   "source": [
    "#tuple\n",
    "t = (1, 2, 3)\n",
    "print(type(t))"
   ]
  },
  {
   "cell_type": "code",
   "execution_count": 8,
   "id": "0da483ca-8018-4fc0-8d5f-a59bc3571f17",
   "metadata": {},
   "outputs": [
    {
     "name": "stdout",
     "output_type": "stream",
     "text": [
      "<class 'range'>\n"
     ]
    }
   ],
   "source": [
    "#range\n",
    "#start, stop, step\n",
    "r = range(5)\n",
    "print(type(r))"
   ]
  },
  {
   "cell_type": "code",
   "execution_count": 9,
   "id": "499ab37c-65e7-48ca-884f-a7e38f3f65b6",
   "metadata": {},
   "outputs": [
    {
     "name": "stdout",
     "output_type": "stream",
     "text": [
      "<class 'dict'>\n"
     ]
    }
   ],
   "source": [
    "#dict\n",
    "#key and value\n",
    "d = {\"name\": \"Stephen\", \"age\": 200}\n",
    "print(type(d))"
   ]
  },
  {
   "cell_type": "code",
   "execution_count": 10,
   "id": "65397b05-b67d-4191-b0d0-aced886f4fd7",
   "metadata": {},
   "outputs": [],
   "source": [
    "#Other types\n",
    "#set, frozeset, bytes, bytearray, memoryview, NoneType"
   ]
  },
  {
   "cell_type": "markdown",
   "id": "8cddfad8",
   "metadata": {},
   "source": [
    "youtube link: https://www.youtube.com/watch?v=lpSLRnbe8eo&t=343s"
   ]
  }
 ],
 "metadata": {
  "kernelspec": {
   "display_name": "Python 3 (ipykernel)",
   "language": "python",
   "name": "python3"
  },
  "language_info": {
   "codemirror_mode": {
    "name": "ipython",
    "version": 3
   },
   "file_extension": ".py",
   "mimetype": "text/x-python",
   "name": "python",
   "nbconvert_exporter": "python",
   "pygments_lexer": "ipython3",
   "version": "3.11.5"
  }
 },
 "nbformat": 4,
 "nbformat_minor": 5
}
