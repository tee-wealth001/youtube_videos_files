{
 "cells": [
  {
   "cell_type": "markdown",
   "id": "62351676",
   "metadata": {},
   "source": [
    "In Python, syntax refers to the set of rules that dictate how the code should be written to create valid and executable programs. It serves as the structure and grammar of the language, ensuring that Python interpreters can understand and execute the code correctly. Key aspects of Python syntax include indentation, which replaces traditional braces or brackets for block structuring, and the use of colons to indicate the start of indented code blocks. Consistency in indentation is crucial for readability and functionality. Additionally, Python employs a straightforward and expressive syntax, emphasizing readability, making it an ideal language for both beginners and experienced developers. Understanding and adhering to Python syntax is essential for writing clean, functional, and efficient code."
   ]
  },
  {
   "cell_type": "markdown",
   "id": "2048be28",
   "metadata": {},
   "source": [
    "### comments"
   ]
  },
  {
   "cell_type": "code",
   "execution_count": 1,
   "id": "871f130d-4e70-42a1-a416-106d7e71ad30",
   "metadata": {},
   "outputs": [
    {
     "data": {
      "text/plain": [
       "'\\ni am\\na\\nmulti\\nline\\n'"
      ]
     },
     "execution_count": 1,
     "metadata": {},
     "output_type": "execute_result"
    }
   ],
   "source": [
    "# single line comments\n",
    "\n",
    "'''\n",
    "multiple \n",
    "line \n",
    "comments\n",
    "'''\n",
    "\n",
    "\"\"\"\n",
    "i am\n",
    "a\n",
    "multi\n",
    "line\n",
    "\"\"\"\n"
   ]
  },
  {
   "cell_type": "markdown",
   "id": "5df6e748",
   "metadata": {},
   "source": [
    "#brackets\n",
    "\n",
    "#square => [ ] list, selectors or accessing elements\n",
    "#curly => { } dictionaries, sets, formatting strings\n",
    "#curvy/ parenthesis => ( ) functions or methods calls, grouping expressions, or encapsulation, tuple\n"
   ]
  },
  {
   "cell_type": "markdown",
   "id": "1bf7e670",
   "metadata": {},
   "source": [
    "#case sensitivity\n",
    "a != A\n",
    "dog != Dog "
   ]
  },
  {
   "cell_type": "code",
   "execution_count": 4,
   "id": "a1584e81-b8aa-4c56-96a7-fde8b11b25d5",
   "metadata": {},
   "outputs": [
    {
     "ename": "IndentationError",
     "evalue": "expected an indented block after 'if' statement on line 4 (3193741628.py, line 6)",
     "output_type": "error",
     "traceback": [
      "\u001b[0;36m  Cell \u001b[0;32mIn[4], line 6\u001b[0;36m\u001b[0m\n\u001b[0;31m    if a == b:\u001b[0m\n\u001b[0m              ^\u001b[0m\n\u001b[0;31mIndentationError\u001b[0m\u001b[0;31m:\u001b[0m expected an indented block after 'if' statement on line 4\n"
     ]
    }
   ],
   "source": [
    "#indentation\n",
    "\n",
    "#accepted\n",
    "if a == b:\n",
    "    if a == b:\n",
    "          \n",
    "#not accepted\n",
    "#this will throw IndentationError          \n",
    "if a == b:\n",
    "            if a == b:\n"
   ]
  },
  {
   "cell_type": "markdown",
   "id": "90da5858",
   "metadata": {},
   "source": [
    "In Python, variables are used to store and represent data values. Unlike some other programming languages, Python does not require explicit declaration of variable types; the interpreter dynamically assigns types based on the assigned values. Variable names are case-sensitive and can consist of letters, numbers, and underscores, but they must start with a letter or underscore.\n",
    "\n",
    "To assign a value to a variable, you use the assignment operator (=). "
   ]
  },
  {
   "cell_type": "code",
   "execution_count": null,
   "id": "9ea323cc-a659-4f75-a471-a8f2161e8f92",
   "metadata": {},
   "outputs": [
    {
     "name": "stdout",
     "output_type": "stream",
     "text": [
      "stephen\n",
      "6\n"
     ]
    }
   ],
   "source": [
    "'''\n",
    "bucket = 'soap'\n",
    "(variable name = value)\n",
    "\n",
    "camelCase\n",
    "snake_case_snake_case , SNAKE_CASE\n",
    "_underScore\n",
    "_under_score\n",
    "_under_score_\n",
    "smallletters\n",
    "CAPITAL\n",
    "\n",
    "test10\n",
    "\n",
    "10test\n",
    "'''\n",
    "my_variable = \"stephen\"\n",
    "\n",
    "print(my_variable)\n",
    "\n",
    "print( 2 + 4)\n"
   ]
  },
  {
   "cell_type": "markdown",
   "id": "4b78bf26",
   "metadata": {},
   "source": [
    "youtube link:https://www.youtube.com/watch?v=K97a4Tm-vp0&t=1162s"
   ]
  }
 ],
 "metadata": {
  "kernelspec": {
   "display_name": "Python 3 (ipykernel)",
   "language": "python",
   "name": "python3"
  },
  "language_info": {
   "codemirror_mode": {
    "name": "ipython",
    "version": 3
   },
   "file_extension": ".py",
   "mimetype": "text/x-python",
   "name": "python",
   "nbconvert_exporter": "python",
   "pygments_lexer": "ipython3",
   "version": "3.11.5"
  }
 },
 "nbformat": 4,
 "nbformat_minor": 5
}
