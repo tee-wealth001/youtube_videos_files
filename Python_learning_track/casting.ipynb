{
 "cells": [
  {
   "cell_type": "code",
   "execution_count": 2,
   "id": "a85860bb-bc72-4b5a-888b-151fd1ecbb4f",
   "metadata": {},
   "outputs": [
    {
     "name": "stdout",
     "output_type": "stream",
     "text": [
      "<class 'int'>\n",
      "<class 'float'>\n",
      "4.5\n",
      "<class 'float'>\n"
     ]
    }
   ],
   "source": [
    "#Casting in python\n",
    "#implicit\n",
    "\n",
    "x = 3\n",
    "y = 1.5\n",
    "\n",
    "print(type(x))\n",
    "print(type(y))\n",
    "\n",
    "sum = x + y\n",
    "print(sum)\n",
    "print(type(sum))\n"
   ]
  },
  {
   "cell_type": "code",
   "execution_count": 5,
   "id": "69d752a7-33a2-4220-95a4-c2c1a199ef5a",
   "metadata": {},
   "outputs": [
    {
     "name": "stdout",
     "output_type": "stream",
     "text": [
      "<class 'float'>\n",
      "<class 'int'>\n"
     ]
    }
   ],
   "source": [
    "#explicit\n",
    "#int()\n",
    "#float()\n",
    "#str()\n",
    "\n",
    "x = 2.1\n",
    "\n",
    "print(type(x))\n",
    "\n",
    "conv_x = int(x)\n",
    "\n",
    "print(type(conv_x))\n",
    "\n"
   ]
  },
  {
   "cell_type": "code",
   "execution_count": 8,
   "id": "c0dc4d92-ad0c-4ab7-9b29-8bd13616a4b0",
   "metadata": {},
   "outputs": [
    {
     "name": "stdout",
     "output_type": "stream",
     "text": [
      "<class 'int'>\n",
      "<class 'float'>\n",
      "2.0\n"
     ]
    }
   ],
   "source": [
    "x = 2\n",
    "\n",
    "print(type(x))\n",
    "\n",
    "conv_x = float(x)\n",
    "\n",
    "print(type(conv_x))\n",
    "\n",
    "print(conv_x)\n",
    "\n",
    "# float values \n",
    "# 2E3\n",
    "# 89.3e2\n"
   ]
  },
  {
   "cell_type": "code",
   "execution_count": 9,
   "id": "3964745f-3c8f-4b8e-b326-71025a576fcf",
   "metadata": {},
   "outputs": [
    {
     "name": "stdout",
     "output_type": "stream",
     "text": [
      "<class 'int'>\n",
      "<class 'str'>\n",
      "2\n"
     ]
    }
   ],
   "source": [
    "#str()\n",
    "\n",
    "x = 2\n",
    "\n",
    "print(type(x))\n",
    "\n",
    "conv_x = str(x)\n",
    "\n",
    "print(type(conv_x))\n",
    "\n",
    "print(conv_x)"
   ]
  },
  {
   "cell_type": "code",
   "execution_count": 11,
   "id": "fdc1a2e6-7732-4d0f-b301-7ec423f4c30b",
   "metadata": {},
   "outputs": [
    {
     "name": "stdout",
     "output_type": "stream",
     "text": [
      "i am200\n"
     ]
    }
   ],
   "source": [
    "word = \"i am\"\n",
    "age = 200\n",
    "\n",
    "conv_age = str(age)\n",
    "\n",
    "concat = word + conv_age\n",
    "\n",
    "print(concat)\n"
   ]
  },
  {
   "cell_type": "code",
   "execution_count": null,
   "id": "4e1d1d17-ea11-4414-ab23-7e3191c20662",
   "metadata": {},
   "outputs": [],
   "source": []
  }
 ],
 "metadata": {
  "kernelspec": {
   "display_name": "Python 3 (ipykernel)",
   "language": "python",
   "name": "python3"
  },
  "language_info": {
   "codemirror_mode": {
    "name": "ipython",
    "version": 3
   },
   "file_extension": ".py",
   "mimetype": "text/x-python",
   "name": "python",
   "nbconvert_exporter": "python",
   "pygments_lexer": "ipython3",
   "version": "3.11.5"
  }
 },
 "nbformat": 4,
 "nbformat_minor": 5
}
